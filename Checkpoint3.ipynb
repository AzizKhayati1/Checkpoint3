{
 "cells": [
  {
   "cell_type": "code",
   "execution_count": 1,
   "id": "585e4671-55b7-49f1-8a47-98d06e62ceee",
   "metadata": {},
   "outputs": [
    {
     "name": "stdin",
     "output_type": "stream",
     "text": [
      "enter the number of elemnts 4\n",
      " 21\n",
      " 2\n",
      " 2\n",
      " 2\n"
     ]
    },
    {
     "name": "stdout",
     "output_type": "stream",
     "text": [
      "[21, 2, 2, 2]\n",
      "168\n"
     ]
    }
   ],
   "source": [
    "#question1 \n",
    "mylist = []\n",
    "n = int(input(\"enter the number of elemnts\")) \n",
    "for i in range (0,n) :\n",
    "    element = int(input())\n",
    "    mylist.append(element)\n",
    "print(mylist) \n",
    "m = 1\n",
    "for i in mylist : \n",
    "    m*=i\n",
    "print(m) \n",
    "\n",
    "        \n",
    "    \n",
    "    \n",
    "    \n",
    "    \n"
   ]
  },
  {
   "cell_type": "code",
   "execution_count": 17,
   "id": "ecfa08bf-5854-4509-9d30-91ec6b62fe6f",
   "metadata": {},
   "outputs": [
    {
     "name": "stdout",
     "output_type": "stream",
     "text": [
      "36\n"
     ]
    }
   ],
   "source": []
  },
  {
   "cell_type": "code",
   "execution_count": 20,
   "id": "f70f02f9-d87d-409e-9632-22edf73e4831",
   "metadata": {},
   "outputs": [
    {
     "name": "stdout",
     "output_type": "stream",
     "text": [
      "[(2, 1), (1, 2), (2, 3), (4, 4), (2, 5)]\n"
     ]
    }
   ],
   "source": [
    "#question2\n",
    "my_list = [(2, 5), (1, 2), (4, 4), (2, 3), (2, 1)] \n",
    "my_list.sort(key=lambda y:y[-1])\n",
    "print(my_list)"
   ]
  },
  {
   "cell_type": "code",
   "execution_count": null,
   "id": "6887ad15-cb22-4357-a64d-6416fd355d6e",
   "metadata": {},
   "outputs": [],
   "source": []
  },
  {
   "cell_type": "markdown",
   "id": "393a96f0-0d7e-4018-8283-bc938732f075",
   "metadata": {},
   "source": []
  },
  {
   "cell_type": "code",
   "execution_count": 5,
   "id": "6e59889f-95d7-4cae-b777-5a89a0bddfe4",
   "metadata": {},
   "outputs": [
    {
     "name": "stdout",
     "output_type": "stream",
     "text": [
      "{'a': 400, 'b': 400, 'c': 700}\n"
     ]
    }
   ],
   "source": [
    "\n",
    "#Question3 \n",
    "d1 = {'a' : 100 , 'b' : 200 , 'c' : 300 }\n",
    "d2 = {'a' : 300 , 'b': 200 , 'c' : 400 }\n",
    "d3 ={}\n",
    "for i , j in d1.items() : \n",
    "    for x,y in d2.items() : \n",
    "        if i==x :\n",
    "            d3[i]=(j+y)\n",
    "print(d3)\n",
    "            "
   ]
  },
  {
   "cell_type": "code",
   "execution_count": 6,
   "id": "f73f2f66-a6ed-400c-961f-b5f385787663",
   "metadata": {},
   "outputs": [
    {
     "name": "stdin",
     "output_type": "stream",
     "text": [
      "type a number :  8\n"
     ]
    },
    {
     "name": "stdout",
     "output_type": "stream",
     "text": [
      "{1: 1, 2: 4, 3: 9, 4: 16, 5: 25, 6: 36, 7: 49, 8: 64}\n"
     ]
    }
   ],
   "source": [
    "#question4\n",
    "number = int(input(\"type a number : \")) \n",
    "numberDict = {} \n",
    "for i in range (1 , number +1) : \n",
    "    numberDict[i] =i*i \n",
    "print(numberDict)\n",
    "    "
   ]
  },
  {
   "cell_type": "code",
   "execution_count": 8,
   "id": "3fdf9b77-68b1-49e0-b90d-4452611084c8",
   "metadata": {},
   "outputs": [
    {
     "name": "stdout",
     "output_type": "stream",
     "text": [
      "[('item1', '12.20'), ('item2', '15.10'), ('item3', '24.5')]\n"
     ]
    }
   ],
   "source": [
    "#question5 \n",
    "list= [('item1', '12.20'), ('item2', '15.10'), ('item3', '24.5')]\n",
    "list.sort(key=lambda y: y[1]) \n",
    "print(list)"
   ]
  },
  {
   "cell_type": "code",
   "execution_count": null,
   "id": "0abfd803-9386-4f5f-a0c1-83b424c49730",
   "metadata": {},
   "outputs": [],
   "source": []
  }
 ],
 "metadata": {
  "kernelspec": {
   "display_name": "Python 3",
   "language": "python",
   "name": "python3"
  },
  "language_info": {
   "codemirror_mode": {
    "name": "ipython",
    "version": 3
   },
   "file_extension": ".py",
   "mimetype": "text/x-python",
   "name": "python",
   "nbconvert_exporter": "python",
   "pygments_lexer": "ipython3",
   "version": "3.8.8"
  }
 },
 "nbformat": 4,
 "nbformat_minor": 5
}
